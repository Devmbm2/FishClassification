{
 "cells": [
  {
   "cell_type": "code",
   "execution_count": 6,
   "metadata": {},
   "outputs": [],
   "source": [
    "import os"
   ]
  },
  {
   "cell_type": "code",
   "execution_count": 7,
   "metadata": {},
   "outputs": [
    {
     "data": {
      "text/plain": [
       "'e:\\\\Ai projects\\\\FishClassificationProject\\\\FishClassification\\\\research'"
      ]
     },
     "execution_count": 7,
     "metadata": {},
     "output_type": "execute_result"
    }
   ],
   "source": [
    "%pwd"
   ]
  },
  {
   "cell_type": "code",
   "execution_count": 8,
   "metadata": {},
   "outputs": [],
   "source": [
    "os.chdir(\"../\")"
   ]
  },
  {
   "cell_type": "code",
   "execution_count": 9,
   "metadata": {},
   "outputs": [
    {
     "data": {
      "text/plain": [
       "'e:\\\\Ai projects\\\\FishClassificationProject\\\\FishClassification'"
      ]
     },
     "execution_count": 9,
     "metadata": {},
     "output_type": "execute_result"
    }
   ],
   "source": [
    "%pwd"
   ]
  },
  {
   "cell_type": "code",
   "execution_count": 10,
   "metadata": {},
   "outputs": [],
   "source": [
    "from dataclasses import dataclass\n",
    "from pathlib import Path\n",
    "\n",
    "\n",
    "@dataclass(frozen=True)\n",
    "class DataIngestionConfig:\n",
    "    root_dir: Path\n",
    "    source_URL: str\n",
    "    local_data_file: Path\n",
    "    unzip_dir: Path\n",
    "    option: str\n",
    "    fileid: str"
   ]
  },
  {
   "cell_type": "code",
   "execution_count": 11,
   "metadata": {},
   "outputs": [],
   "source": [
    "from cnnClassifier.constants import *\n",
    "from cnnClassifier.utils.common import read_yaml, create_directories"
   ]
  },
  {
   "cell_type": "code",
   "execution_count": 12,
   "metadata": {},
   "outputs": [],
   "source": [
    "class ConfigurationManager:\n",
    "    def __init__(\n",
    "        self,\n",
    "        config_filepath = CONFIG_FILE_PATH,\n",
    "        params_filepath = PARAMS_FILE_PATH):\n",
    "\n",
    "        self.config = read_yaml(config_filepath)\n",
    "        self.params = read_yaml(params_filepath)\n",
    "\n",
    "        create_directories([self.config.artifacts_root])\n",
    "\n",
    "\n",
    "    \n",
    "    def get_data_ingestion_config(self) -> DataIngestionConfig:\n",
    "        config = self.config.data_ingestion\n",
    "\n",
    "        create_directories([config.root_dir])\n",
    "\n",
    "        data_ingestion_config = DataIngestionConfig(\n",
    "            root_dir=config.root_dir,\n",
    "            source_URL=config.source_URL,\n",
    "            local_data_file=config.local_data_file,\n",
    "            unzip_dir=config.unzip_dir ,\n",
    "            option=config.option,\n",
    "            fileid=config.fileid  \n",
    "        )\n",
    "\n",
    "        return data_ingestion_config\n",
    "      "
   ]
  },
  {
   "cell_type": "code",
   "execution_count": 13,
   "metadata": {},
   "outputs": [],
   "source": [
    "import os\n",
    "import urllib.request as request\n",
    "import zipfile\n",
    "from cnnClassifier import logger\n",
    "from cnnClassifier.utils.common import get_size\n",
    "import gdown"
   ]
  },
  {
   "cell_type": "code",
   "execution_count": 19,
   "metadata": {},
   "outputs": [],
   "source": [
    "class DataIngestion:\n",
    "    def __init__(self, config: DataIngestionConfig):\n",
    "        self.config = config\n",
    "\n",
    "\n",
    "    def download_file(self):\n",
    "        if not os.path.exists(self.config.local_data_file):\n",
    "            if self.config.option == 'google':\n",
    "                # Use gdown for Google Drive downloads\n",
    "                logger.info(\"Downloading file from Google Drive...\")\n",
    "                # Construct the download URL\n",
    "                download_url = f\"https://drive.google.com/uc?id={self.config.fileid}\"\n",
    "                gdown.download(download_url, self.config.local_data_file, quiet=False)\n",
    "            elif self.config.option == 'url':\n",
    "                # Use urllib for URL downloads\n",
    "                logger.info(\"Downloading file from URL...\")\n",
    "                filename, headers = request.urlretrieve(\n",
    "                    url=self.config.source_URL,\n",
    "                    filename=self.config.local_data_file\n",
    "                )\n",
    "                logger.info(f\"{filename} downloaded with the following info: \\n{headers}\")\n",
    "            else:\n",
    "                logger.error(\"Invalid option. Use 'google' or 'url'.\")\n",
    "        else:\n",
    "            logger.info(f\"File already exists of size: {get_size(Path(self.config.local_data_file))}\")\n",
    "    \n",
    "    def extract_zip_file(self):\n",
    "        \"\"\"\n",
    "        zip_file_path: str\n",
    "        Extracts the zip file into the data directory\n",
    "        Function returns None\n",
    "        \"\"\"\n",
    "        unzip_path = self.config.unzip_dir\n",
    "        os.makedirs(unzip_path, exist_ok=True)\n",
    "        with zipfile.ZipFile(self.config.local_data_file, 'r') as zip_ref:\n",
    "            zip_ref.extractall(unzip_path)\n",
    "\n"
   ]
  },
  {
   "cell_type": "code",
   "execution_count": 20,
   "metadata": {},
   "outputs": [
    {
     "name": "stdout",
     "output_type": "stream",
     "text": [
      "[2024-12-26 12:31:58,672: INFO: common: yaml file: config\\config.yaml loaded successfully]\n",
      "[2024-12-26 12:31:58,676: INFO: common: yaml file: params.yaml loaded successfully]\n",
      "[2024-12-26 12:31:58,678: INFO: common: created directory at: artifacts]\n",
      "[2024-12-26 12:31:58,681: INFO: common: created directory at: artifacts/data_ingestion]\n",
      "[2024-12-26 12:31:58,683: INFO: 3866512213: Downloading file from Google Drive...]\n"
     ]
    },
    {
     "name": "stderr",
     "output_type": "stream",
     "text": [
      "Downloading...\n",
      "From (original): https://drive.google.com/uc?id=1xLxEJn7s5waivRbKG7zaw66Sn8FjeWLe\n",
      "From (redirected): https://drive.google.com/uc?id=1xLxEJn7s5waivRbKG7zaw66Sn8FjeWLe&confirm=t&uuid=4fb33d67-e9fd-424d-b714-33db93d42009\n",
      "To: e:\\Ai projects\\FishClassificationProject\\FishClassification\\artifacts\\data_ingestion\\data.zip\n",
      "100%|██████████| 331M/331M [01:04<00:00, 5.10MB/s] \n"
     ]
    }
   ],
   "source": [
    "try:\n",
    "    config = ConfigurationManager()\n",
    "    data_ingestion_config = config.get_data_ingestion_config()\n",
    "    data_ingestion = DataIngestion(config=data_ingestion_config)\n",
    "    data_ingestion.download_file()\n",
    "    data_ingestion.extract_zip_file()\n",
    "except Exception as e:\n",
    "    raise e"
   ]
  },
  {
   "cell_type": "code",
   "execution_count": 3,
   "metadata": {},
   "outputs": [
    {
     "name": "stderr",
     "output_type": "stream",
     "text": [
      "Downloading...\n",
      "From (original): https://drive.google.com/uc?id=1xLxEJn7s5waivRbKG7zaw66Sn8FjeWLe\n",
      "From (redirected): https://drive.google.com/uc?id=1xLxEJn7s5waivRbKG7zaw66Sn8FjeWLe&confirm=t&uuid=334ecb5f-960a-48ae-8bf9-86bf2a873697\n",
      "To: E:\\Ai projects\\FishClassificationProject\\FishClassification\\downloaded_file.zip\n",
      "100%|██████████| 331M/331M [01:22<00:00, 4.01MB/s] "
     ]
    },
    {
     "name": "stdout",
     "output_type": "stream",
     "text": [
      "File downloaded successfully and saved as E:\\Ai projects\\FishClassificationProject\\FishClassification\\downloaded_file.zip\n"
     ]
    },
    {
     "name": "stderr",
     "output_type": "stream",
     "text": [
      "\n"
     ]
    }
   ],
   "source": [
    "import gdown\n",
    "\n",
    "# https://drive.google.com/file/d/1xLxEJn7s5waivRbKG7zaw66Sn8FjeWLe/view?usp=sharing\n",
    "\n",
    "# Replace with your Google Drive file ID\n",
    "file_id = \"1xLxEJn7s5waivRbKG7zaw66Sn8FjeWLe\"\n",
    "\n",
    "# Construct the download URL\n",
    "download_url = f\"https://drive.google.com/uc?id={file_id}\"\n",
    "\n",
    "# Specify the output path for the downloaded file\n",
    "output_path = \"E:\\Ai projects\\FishClassificationProject\\FishClassification\\downloaded_file.zip\"  # Change this to your desired file name\n",
    "\n",
    "# Download the file\n",
    "gdown.download(download_url, output_path, quiet=False)\n",
    "\n",
    "print(f\"File downloaded successfully and saved as {output_path}\")\n"
   ]
  }
 ],
 "metadata": {
  "kernelspec": {
   "display_name": "myenv",
   "language": "python",
   "name": "python3"
  },
  "language_info": {
   "codemirror_mode": {
    "name": "ipython",
    "version": 3
   },
   "file_extension": ".py",
   "mimetype": "text/x-python",
   "name": "python",
   "nbconvert_exporter": "python",
   "pygments_lexer": "ipython3",
   "version": "3.8.20"
  }
 },
 "nbformat": 4,
 "nbformat_minor": 2
}
